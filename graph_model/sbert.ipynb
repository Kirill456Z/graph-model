{
 "cells": [
  {
   "cell_type": "code",
   "execution_count": 3,
   "metadata": {},
   "outputs": [],
   "source": [
    "from sentence_transformers import SentenceTransformer\n",
    "from collections import defaultdict\n",
    "import pickle\n",
    "import numpy as np\n",
    "\n",
    "class Utterance:\n",
    "    def __init__(self, string, embedding):\n",
    "        self.string = string\n",
    "        self.embedding = embedding\n",
    "\n",
    "class GraphModel:\n",
    "    def __init__(self):\n",
    "        self.model = SentenceTransformer(\"all-MiniLM-L6-v2\")\n",
    "        with open(\"dialogue_sim/graphs/one_serv_sbert_10.pkl\", 'rb') as file:\n",
    "            self.graph = pickle.load(file)\n",
    "        with open(\"dialogue_sim/data/train_dials.pkl\", \"rb\") as file:\n",
    "            self.train_dials = pickle.load(file)\n",
    "        self.transitions = self.train_dials[0].transitions\n",
    "\n",
    "        self.cluster_to_utts = defaultdict(list)\n",
    "        for dial in self.train_dials:\n",
    "            for i in range(len(dial.utterances)):\n",
    "                self.cluster_to_utts[dial.second_stage_clusters[i]].append(Utterance(dial.utterances[i], dial.lm_embeddings[i])) \n",
    "\n",
    "        self.cluster_to_embs = {}\n",
    "        for i, utts in self.cluster_to_utts.items():\n",
    "            embs = []\n",
    "            for utt in utts:\n",
    "                embs.append(utt.embedding)\n",
    "            self.cluster_to_embs[i] = np.array(embs)\n",
    "\n",
    "    def get_closest(self, target, utt_embs, k = 5):\n",
    "        similarity = (utt_embs @ target.reshape(-1, 1)).ravel()\n",
    "        closest = np.argsort(similarity)[:-k:-1]\n",
    "        return closest\n",
    "\n",
    "    def get_next_cluster(self, cur_cluster):\n",
    "        return np.argmax(self.transitions[cur_cluster])\n",
    "        \n",
    "    def __call__(self, text):\n",
    "        embedding = self.model.encode(text)\n",
    "        one_stage_cluster = self.graph.one_stage_clustering._subclusters[\"USER\"].predict_cluster(embedding[0]).id\n",
    "        second_stage_cluster = self.graph.cluster_kmeans_labels[0][one_stage_cluster]\n",
    "        next_cluster = self.get_next_cluster(second_stage_cluster)\n",
    "        closest_idxs = self.get_closest(embedding, self.cluster_to_embs[next_cluster])\n",
    "        closest_str = []\n",
    "        for i in closest_idxs:\n",
    "            closest_str.append(self.cluster_to_utts[next_cluster][i].string)\n",
    "        return closest_str[0]"
   ]
  },
  {
   "cell_type": "code",
   "execution_count": 4,
   "metadata": {},
   "outputs": [
    {
     "ename": "ModuleNotFoundError",
     "evalue": "No module named 'graph_model'",
     "output_type": "error",
     "traceback": [
      "\u001b[0;31m---------------------------------------------------------------------------\u001b[0m",
      "\u001b[0;31mModuleNotFoundError\u001b[0m                       Traceback (most recent call last)",
      "Cell \u001b[0;32mIn[4], line 1\u001b[0m\n\u001b[0;32m----> 1\u001b[0m model \u001b[39m=\u001b[39m GraphModel()\n",
      "Cell \u001b[0;32mIn[3], line 15\u001b[0m, in \u001b[0;36mGraphModel.__init__\u001b[0;34m(self)\u001b[0m\n\u001b[1;32m     13\u001b[0m \u001b[39mself\u001b[39m\u001b[39m.\u001b[39mmodel \u001b[39m=\u001b[39m SentenceTransformer(\u001b[39m\"\u001b[39m\u001b[39mall-MiniLM-L6-v2\u001b[39m\u001b[39m\"\u001b[39m)\n\u001b[1;32m     14\u001b[0m \u001b[39mwith\u001b[39;00m \u001b[39mopen\u001b[39m(\u001b[39m\"\u001b[39m\u001b[39mdialogue_sim/graphs/one_serv_sbert_10.pkl\u001b[39m\u001b[39m\"\u001b[39m, \u001b[39m'\u001b[39m\u001b[39mrb\u001b[39m\u001b[39m'\u001b[39m) \u001b[39mas\u001b[39;00m file:\n\u001b[0;32m---> 15\u001b[0m     \u001b[39mself\u001b[39m\u001b[39m.\u001b[39mgraph \u001b[39m=\u001b[39m pickle\u001b[39m.\u001b[39;49mload(file)\n\u001b[1;32m     16\u001b[0m \u001b[39mwith\u001b[39;00m \u001b[39mopen\u001b[39m(\u001b[39m\"\u001b[39m\u001b[39mdialogue_sim/data/train_dials.pkl\u001b[39m\u001b[39m\"\u001b[39m, \u001b[39m\"\u001b[39m\u001b[39mrb\u001b[39m\u001b[39m\"\u001b[39m) \u001b[39mas\u001b[39;00m file:\n\u001b[1;32m     17\u001b[0m     \u001b[39mself\u001b[39m\u001b[39m.\u001b[39mtrain_dials \u001b[39m=\u001b[39m pickle\u001b[39m.\u001b[39mload(file)\n",
      "File \u001b[0;32m~/Desktop/ODQA_TG_Bot/tg_bot/graph_model/dialogue_graph/__init__.py:1\u001b[0m\n\u001b[0;32m----> 1\u001b[0m \u001b[39mfrom\u001b[39;00m \u001b[39m.\u001b[39;00m\u001b[39mfrequency_dialogue_graph\u001b[39;00m \u001b[39mimport\u001b[39;00m FrequencyDialogueGraph\n",
      "File \u001b[0;32m~/Desktop/ODQA_TG_Bot/tg_bot/graph_model/dialogue_graph/frequency_dialogue_graph.py:10\u001b[0m\n\u001b[1;32m      7\u001b[0m \u001b[39mimport\u001b[39;00m \u001b[39mpickle\u001b[39;00m\n\u001b[1;32m      8\u001b[0m \u001b[39mimport\u001b[39;00m \u001b[39mos\u001b[39;00m\n\u001b[0;32m---> 10\u001b[0m \u001b[39mfrom\u001b[39;00m \u001b[39mgraph_model\u001b[39;00m\u001b[39m.\u001b[39;00m\u001b[39mclustering\u001b[39;00m\u001b[39m.\u001b[39;00m\u001b[39mfilters\u001b[39;00m \u001b[39mimport\u001b[39;00m default_filter\n\u001b[1;32m     11\u001b[0m \u001b[39mfrom\u001b[39;00m \u001b[39mgraph_model\u001b[39;00m\u001b[39m.\u001b[39;00m\u001b[39mclustering\u001b[39;00m\u001b[39m.\u001b[39;00m\u001b[39msubclustering\u001b[39;00m \u001b[39mimport\u001b[39;00m SubClustering\n\u001b[1;32m     13\u001b[0m \u001b[39mfrom\u001b[39;00m \u001b[39mgraph_model\u001b[39;00m\u001b[39m.\u001b[39;00m\u001b[39mdataset\u001b[39;00m \u001b[39mimport\u001b[39;00m DialogueDataset, Dialogue\n",
      "\u001b[0;31mModuleNotFoundError\u001b[0m: No module named 'graph_model'"
     ]
    }
   ],
   "source": [
    "model = GraphModel()"
   ]
  },
  {
   "cell_type": "code",
   "execution_count": 4,
   "metadata": {},
   "outputs": [
    {
     "name": "stdout",
     "output_type": "stream",
     "text": [
      "huggingface/tokenizers: The current process just got forked, after parallelism has already been used. Disabling parallelism to avoid deadlocks...\n",
      "To disable this warning, you can either:\n",
      "\t- Avoid using `tokenizers` before the fork if possible\n",
      "\t- Explicitly set the environment variable TOKENIZERS_PARALLELISM=(true | false)\n"
     ]
    },
    {
     "data": {
      "text/plain": [
       "'The contact number for the taxi is 07648586609.'"
      ]
     },
     "execution_count": 4,
     "metadata": {},
     "output_type": "execute_result"
    }
   ],
   "source": [
    "model([\"Hi, I would like to order a taxi\"])"
   ]
  }
 ],
 "metadata": {
  "kernelspec": {
   "display_name": "Python 3",
   "language": "python",
   "name": "python3"
  },
  "language_info": {
   "codemirror_mode": {
    "name": "ipython",
    "version": 3
   },
   "file_extension": ".py",
   "mimetype": "text/x-python",
   "name": "python",
   "nbconvert_exporter": "python",
   "pygments_lexer": "ipython3",
   "version": "3.9.16"
  },
  "orig_nbformat": 4
 },
 "nbformat": 4,
 "nbformat_minor": 2
}
