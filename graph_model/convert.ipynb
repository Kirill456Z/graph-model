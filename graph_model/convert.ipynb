{
 "cells": [
  {
   "cell_type": "code",
   "execution_count": 2,
   "metadata": {},
   "outputs": [
    {
     "name": "stdout",
     "output_type": "stream",
     "text": [
      "/home/kirill/Desktop/ODQA_TG_Bot/tg_bot\n"
     ]
    }
   ],
   "source": [
    "%cd .."
   ]
  },
  {
   "cell_type": "code",
   "execution_count": 8,
   "metadata": {},
   "outputs": [
    {
     "name": "stdout",
     "output_type": "stream",
     "text": [
      "Collecting tensorflow_text\n",
      "  Downloading tensorflow_text-2.12.1-cp39-cp39-manylinux_2_17_x86_64.manylinux2014_x86_64.whl (6.0 MB)\n",
      "\u001b[2K     \u001b[90m━━━━━━━━━━━━━━━━━━━━━━━━━━━━━━━━━━━━━━━━\u001b[0m \u001b[32m6.0/6.0 MB\u001b[0m \u001b[31m4.5 MB/s\u001b[0m eta \u001b[36m0:00:00\u001b[0m00:01\u001b[0m00:01\u001b[0mm\n",
      "\u001b[?25hRequirement already satisfied: tensorflow<2.13,>=2.12.0 in /home/kirill/Desktop/DGAC/.conda/lib/python3.9/site-packages (from tensorflow_text) (2.12.0)\n",
      "Requirement already satisfied: tensorflow-hub>=0.8.0 in /home/kirill/Desktop/DGAC/.conda/lib/python3.9/site-packages (from tensorflow_text) (0.13.0)\n",
      "Requirement already satisfied: libclang>=13.0.0 in /home/kirill/Desktop/DGAC/.conda/lib/python3.9/site-packages (from tensorflow<2.13,>=2.12.0->tensorflow_text) (16.0.0)\n",
      "Requirement already satisfied: h5py>=2.9.0 in /home/kirill/Desktop/DGAC/.conda/lib/python3.9/site-packages (from tensorflow<2.13,>=2.12.0->tensorflow_text) (3.8.0)\n",
      "Requirement already satisfied: keras<2.13,>=2.12.0 in /home/kirill/Desktop/DGAC/.conda/lib/python3.9/site-packages (from tensorflow<2.13,>=2.12.0->tensorflow_text) (2.12.0)\n",
      "Requirement already satisfied: google-pasta>=0.1.1 in /home/kirill/Desktop/DGAC/.conda/lib/python3.9/site-packages (from tensorflow<2.13,>=2.12.0->tensorflow_text) (0.2.0)\n",
      "Requirement already satisfied: tensorboard<2.13,>=2.12 in /home/kirill/Desktop/DGAC/.conda/lib/python3.9/site-packages (from tensorflow<2.13,>=2.12.0->tensorflow_text) (2.12.3)\n",
      "Requirement already satisfied: tensorflow-estimator<2.13,>=2.12.0 in /home/kirill/Desktop/DGAC/.conda/lib/python3.9/site-packages (from tensorflow<2.13,>=2.12.0->tensorflow_text) (2.12.0)\n",
      "Requirement already satisfied: six>=1.12.0 in /home/kirill/Desktop/DGAC/.conda/lib/python3.9/site-packages (from tensorflow<2.13,>=2.12.0->tensorflow_text) (1.16.0)\n",
      "Requirement already satisfied: setuptools in /home/kirill/Desktop/DGAC/.conda/lib/python3.9/site-packages (from tensorflow<2.13,>=2.12.0->tensorflow_text) (65.6.3)\n",
      "Requirement already satisfied: packaging in /home/kirill/Desktop/DGAC/.conda/lib/python3.9/site-packages (from tensorflow<2.13,>=2.12.0->tensorflow_text) (23.0)\n",
      "Requirement already satisfied: jax>=0.3.15 in /home/kirill/Desktop/DGAC/.conda/lib/python3.9/site-packages (from tensorflow<2.13,>=2.12.0->tensorflow_text) (0.4.10)\n",
      "Requirement already satisfied: protobuf!=4.21.0,!=4.21.1,!=4.21.2,!=4.21.3,!=4.21.4,!=4.21.5,<5.0.0dev,>=3.20.3 in /home/kirill/Desktop/DGAC/.conda/lib/python3.9/site-packages (from tensorflow<2.13,>=2.12.0->tensorflow_text) (4.23.0)\n",
      "Requirement already satisfied: gast<=0.4.0,>=0.2.1 in /home/kirill/Desktop/DGAC/.conda/lib/python3.9/site-packages (from tensorflow<2.13,>=2.12.0->tensorflow_text) (0.4.0)\n",
      "Requirement already satisfied: grpcio<2.0,>=1.24.3 in /home/kirill/Desktop/DGAC/.conda/lib/python3.9/site-packages (from tensorflow<2.13,>=2.12.0->tensorflow_text) (1.54.2)\n",
      "Requirement already satisfied: typing-extensions>=3.6.6 in /home/kirill/Desktop/DGAC/.conda/lib/python3.9/site-packages (from tensorflow<2.13,>=2.12.0->tensorflow_text) (4.5.0)\n",
      "Requirement already satisfied: flatbuffers>=2.0 in /home/kirill/Desktop/DGAC/.conda/lib/python3.9/site-packages (from tensorflow<2.13,>=2.12.0->tensorflow_text) (23.5.9)\n",
      "Requirement already satisfied: wrapt<1.15,>=1.11.0 in /home/kirill/Desktop/DGAC/.conda/lib/python3.9/site-packages (from tensorflow<2.13,>=2.12.0->tensorflow_text) (1.14.1)\n",
      "Requirement already satisfied: absl-py>=1.0.0 in /home/kirill/Desktop/DGAC/.conda/lib/python3.9/site-packages (from tensorflow<2.13,>=2.12.0->tensorflow_text) (1.4.0)\n",
      "Requirement already satisfied: numpy<1.24,>=1.22 in /home/kirill/Desktop/DGAC/.conda/lib/python3.9/site-packages (from tensorflow<2.13,>=2.12.0->tensorflow_text) (1.23.5)\n",
      "Requirement already satisfied: tensorflow-io-gcs-filesystem>=0.23.1 in /home/kirill/Desktop/DGAC/.conda/lib/python3.9/site-packages (from tensorflow<2.13,>=2.12.0->tensorflow_text) (0.32.0)\n",
      "Requirement already satisfied: termcolor>=1.1.0 in /home/kirill/Desktop/DGAC/.conda/lib/python3.9/site-packages (from tensorflow<2.13,>=2.12.0->tensorflow_text) (2.3.0)\n",
      "Requirement already satisfied: opt-einsum>=2.3.2 in /home/kirill/Desktop/DGAC/.conda/lib/python3.9/site-packages (from tensorflow<2.13,>=2.12.0->tensorflow_text) (3.3.0)\n",
      "Requirement already satisfied: astunparse>=1.6.0 in /home/kirill/Desktop/DGAC/.conda/lib/python3.9/site-packages (from tensorflow<2.13,>=2.12.0->tensorflow_text) (1.6.3)\n",
      "Requirement already satisfied: wheel<1.0,>=0.23.0 in /home/kirill/Desktop/DGAC/.conda/lib/python3.9/site-packages (from astunparse>=1.6.0->tensorflow<2.13,>=2.12.0->tensorflow_text) (0.38.4)\n",
      "Requirement already satisfied: ml-dtypes>=0.1.0 in /home/kirill/Desktop/DGAC/.conda/lib/python3.9/site-packages (from jax>=0.3.15->tensorflow<2.13,>=2.12.0->tensorflow_text) (0.1.0)\n",
      "Requirement already satisfied: scipy>=1.7 in /home/kirill/Desktop/DGAC/.conda/lib/python3.9/site-packages (from jax>=0.3.15->tensorflow<2.13,>=2.12.0->tensorflow_text) (1.10.1)\n",
      "Requirement already satisfied: markdown>=2.6.8 in /home/kirill/Desktop/DGAC/.conda/lib/python3.9/site-packages (from tensorboard<2.13,>=2.12->tensorflow<2.13,>=2.12.0->tensorflow_text) (3.4.3)\n",
      "Requirement already satisfied: werkzeug>=1.0.1 in /home/kirill/Desktop/DGAC/.conda/lib/python3.9/site-packages (from tensorboard<2.13,>=2.12->tensorflow<2.13,>=2.12.0->tensorflow_text) (2.3.4)\n",
      "Requirement already satisfied: google-auth<3,>=1.6.3 in /home/kirill/Desktop/DGAC/.conda/lib/python3.9/site-packages (from tensorboard<2.13,>=2.12->tensorflow<2.13,>=2.12.0->tensorflow_text) (2.18.0)\n",
      "Requirement already satisfied: google-auth-oauthlib<1.1,>=0.5 in /home/kirill/Desktop/DGAC/.conda/lib/python3.9/site-packages (from tensorboard<2.13,>=2.12->tensorflow<2.13,>=2.12.0->tensorflow_text) (1.0.0)\n",
      "Requirement already satisfied: requests<3,>=2.21.0 in /home/kirill/Desktop/DGAC/.conda/lib/python3.9/site-packages (from tensorboard<2.13,>=2.12->tensorflow<2.13,>=2.12.0->tensorflow_text) (2.28.2)\n",
      "Requirement already satisfied: tensorboard-data-server<0.8.0,>=0.7.0 in /home/kirill/Desktop/DGAC/.conda/lib/python3.9/site-packages (from tensorboard<2.13,>=2.12->tensorflow<2.13,>=2.12.0->tensorflow_text) (0.7.0)\n",
      "Requirement already satisfied: urllib3<2.0 in /home/kirill/Desktop/DGAC/.conda/lib/python3.9/site-packages (from google-auth<3,>=1.6.3->tensorboard<2.13,>=2.12->tensorflow<2.13,>=2.12.0->tensorflow_text) (1.26.15)\n",
      "Requirement already satisfied: cachetools<6.0,>=2.0.0 in /home/kirill/Desktop/DGAC/.conda/lib/python3.9/site-packages (from google-auth<3,>=1.6.3->tensorboard<2.13,>=2.12->tensorflow<2.13,>=2.12.0->tensorflow_text) (5.3.0)\n",
      "Requirement already satisfied: pyasn1-modules>=0.2.1 in /home/kirill/Desktop/DGAC/.conda/lib/python3.9/site-packages (from google-auth<3,>=1.6.3->tensorboard<2.13,>=2.12->tensorflow<2.13,>=2.12.0->tensorflow_text) (0.3.0)\n",
      "Requirement already satisfied: rsa<5,>=3.1.4 in /home/kirill/Desktop/DGAC/.conda/lib/python3.9/site-packages (from google-auth<3,>=1.6.3->tensorboard<2.13,>=2.12->tensorflow<2.13,>=2.12.0->tensorflow_text) (4.9)\n",
      "Requirement already satisfied: requests-oauthlib>=0.7.0 in /home/kirill/Desktop/DGAC/.conda/lib/python3.9/site-packages (from google-auth-oauthlib<1.1,>=0.5->tensorboard<2.13,>=2.12->tensorflow<2.13,>=2.12.0->tensorflow_text) (1.3.1)\n",
      "Requirement already satisfied: importlib-metadata>=4.4 in /home/kirill/Desktop/DGAC/.conda/lib/python3.9/site-packages (from markdown>=2.6.8->tensorboard<2.13,>=2.12->tensorflow<2.13,>=2.12.0->tensorflow_text) (6.1.0)\n",
      "Requirement already satisfied: idna<4,>=2.5 in /home/kirill/Desktop/DGAC/.conda/lib/python3.9/site-packages (from requests<3,>=2.21.0->tensorboard<2.13,>=2.12->tensorflow<2.13,>=2.12.0->tensorflow_text) (3.4)\n",
      "Requirement already satisfied: certifi>=2017.4.17 in /home/kirill/Desktop/DGAC/.conda/lib/python3.9/site-packages (from requests<3,>=2.21.0->tensorboard<2.13,>=2.12->tensorflow<2.13,>=2.12.0->tensorflow_text) (2022.12.7)\n",
      "Requirement already satisfied: charset-normalizer<4,>=2 in /home/kirill/Desktop/DGAC/.conda/lib/python3.9/site-packages (from requests<3,>=2.21.0->tensorboard<2.13,>=2.12->tensorflow<2.13,>=2.12.0->tensorflow_text) (3.1.0)\n",
      "Requirement already satisfied: MarkupSafe>=2.1.1 in /home/kirill/Desktop/DGAC/.conda/lib/python3.9/site-packages (from werkzeug>=1.0.1->tensorboard<2.13,>=2.12->tensorflow<2.13,>=2.12.0->tensorflow_text) (2.1.2)\n",
      "Requirement already satisfied: zipp>=0.5 in /home/kirill/Desktop/DGAC/.conda/lib/python3.9/site-packages (from importlib-metadata>=4.4->markdown>=2.6.8->tensorboard<2.13,>=2.12->tensorflow<2.13,>=2.12.0->tensorflow_text) (3.15.0)\n",
      "Requirement already satisfied: pyasn1<0.6.0,>=0.4.6 in /home/kirill/Desktop/DGAC/.conda/lib/python3.9/site-packages (from pyasn1-modules>=0.2.1->google-auth<3,>=1.6.3->tensorboard<2.13,>=2.12->tensorflow<2.13,>=2.12.0->tensorflow_text) (0.5.0)\n",
      "Requirement already satisfied: oauthlib>=3.0.0 in /home/kirill/Desktop/DGAC/.conda/lib/python3.9/site-packages (from requests-oauthlib>=0.7.0->google-auth-oauthlib<1.1,>=0.5->tensorboard<2.13,>=2.12->tensorflow<2.13,>=2.12.0->tensorflow_text) (3.2.2)\n",
      "Installing collected packages: tensorflow_text\n",
      "Successfully installed tensorflow_text-2.12.1\n",
      "Note: you may need to restart the kernel to use updated packages.\n"
     ]
    }
   ],
   "source": [
    "%pip install tensorflow_text"
   ]
  },
  {
   "cell_type": "code",
   "execution_count": 9,
   "metadata": {},
   "outputs": [
    {
     "name": "stderr",
     "output_type": "stream",
     "text": [
      "2023-05-16 15:19:57.075180: I tensorflow/compiler/xla/stream_executor/cuda/cuda_gpu_executor.cc:996] successful NUMA node read from SysFS had negative value (-1), but there must be at least one NUMA node, so returning NUMA node zero. See more at https://github.com/torvalds/linux/blob/v6.0/Documentation/ABI/testing/sysfs-bus-pci#L344-L355\n",
      "2023-05-16 15:19:57.317874: W tensorflow/core/common_runtime/gpu/gpu_device.cc:1956] Cannot dlopen some GPU libraries. Please make sure the missing libraries mentioned above are installed properly if you would like to use GPU. Follow the guide at https://www.tensorflow.org/install/gpu for how to download and setup the required libraries for your platform.\n",
      "Skipping registering GPU devices...\n"
     ]
    },
    {
     "ename": "OSError",
     "evalue": "/home/akhmadjonov/workspace/Convert_TF2 does not exist.",
     "output_type": "error",
     "traceback": [
      "\u001b[0;31m---------------------------------------------------------------------------\u001b[0m",
      "\u001b[0;31mOSError\u001b[0m                                   Traceback (most recent call last)",
      "Cell \u001b[0;32mIn[9], line 1\u001b[0m\n\u001b[0;32m----> 1\u001b[0m \u001b[39mfrom\u001b[39;00m \u001b[39membedders\u001b[39;00m\u001b[39m.\u001b[39;00m\u001b[39mconvert_embedder\u001b[39;00m \u001b[39mimport\u001b[39;00m ConvertEmbedder\n\u001b[1;32m      3\u001b[0m embedder \u001b[39m=\u001b[39m ConvertEmbedder()\n",
      "File \u001b[0;32m~/Desktop/ODQA_TG_Bot/tg_bot/graph_model/embedders/convert_embedder.py:7\u001b[0m\n\u001b[1;32m      5\u001b[0m \u001b[39mfrom\u001b[39;00m \u001b[39mdataset\u001b[39;00m \u001b[39mimport\u001b[39;00m DialogueDataset, Dialogue\n\u001b[1;32m      6\u001b[0m \u001b[39mfrom\u001b[39;00m \u001b[39membedders\u001b[39;00m \u001b[39mimport\u001b[39;00m OneViewEmbedder\n\u001b[0;32m----> 7\u001b[0m \u001b[39mfrom\u001b[39;00m \u001b[39membedders\u001b[39;00m\u001b[39m.\u001b[39;00m\u001b[39mconvert\u001b[39;00m \u001b[39mimport\u001b[39;00m encode_context, encode_responses\n\u001b[1;32m     10\u001b[0m \u001b[39mclass\u001b[39;00m \u001b[39mConvertEmbedder\u001b[39;00m(OneViewEmbedder):\n\u001b[1;32m     11\u001b[0m     \u001b[39mdef\u001b[39;00m \u001b[39mencode_dialogue\u001b[39m(\u001b[39mself\u001b[39m, dialogue: Dialogue) \u001b[39m-\u001b[39m\u001b[39m>\u001b[39m np\u001b[39m.\u001b[39marray:\n",
      "File \u001b[0;32m~/Desktop/ODQA_TG_Bot/tg_bot/graph_model/embedders/convert.py:42\u001b[0m\n\u001b[1;32m     39\u001b[0m sess \u001b[39m=\u001b[39m tf\u001b[39m.\u001b[39mcompat\u001b[39m.\u001b[39mv1\u001b[39m.\u001b[39mSession()\n\u001b[1;32m     40\u001b[0m text_placeholder \u001b[39m=\u001b[39m tf\u001b[39m.\u001b[39mcompat\u001b[39m.\u001b[39mv1\u001b[39m.\u001b[39mplaceholder(dtype\u001b[39m=\u001b[39mtf\u001b[39m.\u001b[39mstring, shape\u001b[39m=\u001b[39m[\u001b[39mNone\u001b[39;00m])\n\u001b[0;32m---> 42\u001b[0m module \u001b[39m=\u001b[39m tfhub\u001b[39m.\u001b[39;49mModule(MODEL_PATH)\n\u001b[1;32m     44\u001b[0m extra_text_placeholder \u001b[39m=\u001b[39m tf\u001b[39m.\u001b[39mcompat\u001b[39m.\u001b[39mv1\u001b[39m.\u001b[39mplaceholder(dtype\u001b[39m=\u001b[39mtf\u001b[39m.\u001b[39mstring, shape\u001b[39m=\u001b[39m[\u001b[39mNone\u001b[39;00m])\n\u001b[1;32m     46\u001b[0m \u001b[39m# The encode_context signature now also takes the extra context.\u001b[39;00m\n",
      "File \u001b[0;32m~/Desktop/DGAC/.conda/lib/python3.9/site-packages/tensorflow_hub/module.py:157\u001b[0m, in \u001b[0;36mModule.__init__\u001b[0;34m(self, spec, trainable, name, tags)\u001b[0m\n\u001b[1;32m    123\u001b[0m \u001b[39m\u001b[39m\u001b[39m\"\"\"Constructs a Module to be used in the current graph.\u001b[39;00m\n\u001b[1;32m    124\u001b[0m \n\u001b[1;32m    125\u001b[0m \u001b[39mThis creates the module `state-graph` under an unused variable_scope based\u001b[39;00m\n\u001b[0;32m   (...)\u001b[0m\n\u001b[1;32m    154\u001b[0m \u001b[39m  tf.errors.NotFoundError: if the requested graph contains unknown ops.\u001b[39;00m\n\u001b[1;32m    155\u001b[0m \u001b[39m\"\"\"\u001b[39;00m\n\u001b[1;32m    156\u001b[0m \u001b[39mself\u001b[39m\u001b[39m.\u001b[39m_graph \u001b[39m=\u001b[39m tf\u001b[39m.\u001b[39mcompat\u001b[39m.\u001b[39mv1\u001b[39m.\u001b[39mget_default_graph()\n\u001b[0;32m--> 157\u001b[0m \u001b[39mself\u001b[39m\u001b[39m.\u001b[39m_spec \u001b[39m=\u001b[39m as_module_spec(spec)\n\u001b[1;32m    158\u001b[0m \u001b[39mself\u001b[39m\u001b[39m.\u001b[39m_trainable \u001b[39m=\u001b[39m trainable\n\u001b[1;32m    160\u001b[0m \u001b[39mself\u001b[39m\u001b[39m.\u001b[39m_tags \u001b[39m=\u001b[39m \u001b[39mset\u001b[39m(tags \u001b[39mor\u001b[39;00m [])\n",
      "File \u001b[0;32m~/Desktop/DGAC/.conda/lib/python3.9/site-packages/tensorflow_hub/module.py:30\u001b[0m, in \u001b[0;36mas_module_spec\u001b[0;34m(spec)\u001b[0m\n\u001b[1;32m     28\u001b[0m   \u001b[39mreturn\u001b[39;00m spec\n\u001b[1;32m     29\u001b[0m \u001b[39melif\u001b[39;00m \u001b[39misinstance\u001b[39m(spec, \u001b[39mstr\u001b[39m):\n\u001b[0;32m---> 30\u001b[0m   \u001b[39mreturn\u001b[39;00m load_module_spec(spec)\n\u001b[1;32m     31\u001b[0m \u001b[39melse\u001b[39;00m:\n\u001b[1;32m     32\u001b[0m   \u001b[39mraise\u001b[39;00m \u001b[39mValueError\u001b[39;00m(\u001b[39m\"\u001b[39m\u001b[39mUnknown module spec type: \u001b[39m\u001b[39m%r\u001b[39;00m\u001b[39m\"\u001b[39m \u001b[39m%\u001b[39m \u001b[39mtype\u001b[39m(spec))\n",
      "File \u001b[0;32m~/Desktop/DGAC/.conda/lib/python3.9/site-packages/tensorflow_hub/module.py:64\u001b[0m, in \u001b[0;36mload_module_spec\u001b[0;34m(path)\u001b[0m\n\u001b[1;32m     35\u001b[0m \u001b[39mdef\u001b[39;00m \u001b[39mload_module_spec\u001b[39m(path):\n\u001b[1;32m     36\u001b[0m \u001b[39m  \u001b[39m\u001b[39m\"\"\"Loads a ModuleSpec from a TF Hub service or the filesystem.\u001b[39;00m\n\u001b[1;32m     37\u001b[0m \n\u001b[1;32m     38\u001b[0m \u001b[39m  Warning: Deprecated. This belongs to the hub.Module API and TF1 Hub format.\u001b[39;00m\n\u001b[0;32m   (...)\u001b[0m\n\u001b[1;32m     62\u001b[0m \u001b[39m    tf.errors.OpError: on file handling exceptions.\u001b[39;00m\n\u001b[1;32m     63\u001b[0m \u001b[39m  \"\"\"\u001b[39;00m\n\u001b[0;32m---> 64\u001b[0m   path \u001b[39m=\u001b[39m registry\u001b[39m.\u001b[39;49mresolver(path)\n\u001b[1;32m     65\u001b[0m   \u001b[39mreturn\u001b[39;00m registry\u001b[39m.\u001b[39mloader(path)\n",
      "File \u001b[0;32m~/Desktop/DGAC/.conda/lib/python3.9/site-packages/tensorflow_hub/registry.py:49\u001b[0m, in \u001b[0;36mMultiImplRegister.__call__\u001b[0;34m(self, *args, **kwargs)\u001b[0m\n\u001b[1;32m     47\u001b[0m \u001b[39mfor\u001b[39;00m impl \u001b[39min\u001b[39;00m \u001b[39mreversed\u001b[39m(\u001b[39mself\u001b[39m\u001b[39m.\u001b[39m_impls):\n\u001b[1;32m     48\u001b[0m   \u001b[39mif\u001b[39;00m impl\u001b[39m.\u001b[39mis_supported(\u001b[39m*\u001b[39margs, \u001b[39m*\u001b[39m\u001b[39m*\u001b[39mkwargs):\n\u001b[0;32m---> 49\u001b[0m     \u001b[39mreturn\u001b[39;00m impl(\u001b[39m*\u001b[39;49margs, \u001b[39m*\u001b[39;49m\u001b[39m*\u001b[39;49mkwargs)\n\u001b[1;32m     50\u001b[0m   \u001b[39melse\u001b[39;00m:\n\u001b[1;32m     51\u001b[0m     fails\u001b[39m.\u001b[39mappend(\u001b[39mtype\u001b[39m(impl)\u001b[39m.\u001b[39m\u001b[39m__name__\u001b[39m)\n",
      "File \u001b[0;32m~/Desktop/DGAC/.conda/lib/python3.9/site-packages/tensorflow_hub/resolver.py:499\u001b[0m, in \u001b[0;36mPathResolver.__call__\u001b[0;34m(self, handle)\u001b[0m\n\u001b[1;32m    497\u001b[0m \u001b[39mdef\u001b[39;00m \u001b[39m__call__\u001b[39m(\u001b[39mself\u001b[39m, handle):\n\u001b[1;32m    498\u001b[0m   \u001b[39mif\u001b[39;00m \u001b[39mnot\u001b[39;00m tf\u001b[39m.\u001b[39mcompat\u001b[39m.\u001b[39mv1\u001b[39m.\u001b[39mgfile\u001b[39m.\u001b[39mExists(handle):\n\u001b[0;32m--> 499\u001b[0m     \u001b[39mraise\u001b[39;00m \u001b[39mIOError\u001b[39;00m(\u001b[39m\"\u001b[39m\u001b[39m%s\u001b[39;00m\u001b[39m does not exist.\u001b[39m\u001b[39m\"\u001b[39m \u001b[39m%\u001b[39m handle)\n\u001b[1;32m    500\u001b[0m   \u001b[39mreturn\u001b[39;00m handle\n",
      "\u001b[0;31mOSError\u001b[0m: /home/akhmadjonov/workspace/Convert_TF2 does not exist."
     ]
    }
   ],
   "source": [
    "from embedders.convert_embedder import ConvertEmbedder\n",
    "\n",
    "embedder = ConvertEmbedder()"
   ]
  },
  {
   "cell_type": "code",
   "execution_count": null,
   "metadata": {},
   "outputs": [],
   "source": []
  },
  {
   "cell_type": "code",
   "execution_count": null,
   "metadata": {},
   "outputs": [],
   "source": []
  }
 ],
 "metadata": {
  "kernelspec": {
   "display_name": "Python 3",
   "language": "python",
   "name": "python3"
  },
  "language_info": {
   "codemirror_mode": {
    "name": "ipython",
    "version": 3
   },
   "file_extension": ".py",
   "mimetype": "text/x-python",
   "name": "python",
   "nbconvert_exporter": "python",
   "pygments_lexer": "ipython3",
   "version": "3.9.16"
  },
  "orig_nbformat": 4
 },
 "nbformat": 4,
 "nbformat_minor": 2
}
